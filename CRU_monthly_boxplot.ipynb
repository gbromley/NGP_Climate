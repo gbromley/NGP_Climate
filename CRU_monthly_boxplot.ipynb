{
 "cells": [
  {
   "cell_type": "code",
   "execution_count": 12,
   "metadata": {},
   "outputs": [],
   "source": [
    "%matplotlib inline\n",
    "import xarray as xr\n",
    "import numpy as np\n",
    "import pandas as pd\n",
    "import matplotlib.pyplot as plt\n",
    "#import netCDF4\n",
    "from scipy import stats\n",
    "import statsmodels.api as sm\n",
    "import cartopy.crs as ccrs\n",
    "import cartopy.feature as cfeature\n",
    "import sys\n",
    "from mpl_toolkits.axes_grid1 import make_axes_locatable\n",
    "sys.path.append('/Users/gbromley/Dropbox/code/python_utilities/')\n",
    "from python_data_functions import extract_months\n",
    "from python_met_functions import sat_vap_pres\n",
    "from python_data_functions import mk_test\n",
    "from cartopy.io.shapereader import Reader\n",
    "from cartopy.feature import ShapelyFeature\n",
    "from mpl_toolkits.axes_grid.anchored_artists import AnchoredText\n",
    "\n"
   ]
  },
  {
   "cell_type": "code",
   "execution_count": 2,
   "metadata": {},
   "outputs": [],
   "source": [
    "data_dir = '/Users/gbromley/Dropbox/CRUTS4.01/'\n",
    "output_dir='/Users/gbromley/code/NGP_Climate/'\n",
    "temp_file = 'cru_ts4.01.1901.2016.tmp.dat.nc'\n",
    "#vap_file = 'vap/cru_ts3.24.1901.2015.vap.dat.nc'\n",
    "#nc_vap = xr.open_dataset(data_dir+vap_file)\n",
    "nc_temp = xr.open_dataset(data_dir+temp_file)\n"
   ]
  },
  {
   "cell_type": "code",
   "execution_count": 3,
   "metadata": {},
   "outputs": [],
   "source": [
    "t2m = nc_temp['tmp']\n",
    "ngp_mask = xr.open_dataset('/Users/gbromley/Dropbox/Montana_Climate_Project/Study_Area/ngp_mask.nc')\n",
    "ngp_mask = ngp_mask.rename({'__xarray_dataarray_variable__':'ngp'})\n",
    "mask = ngp_mask['ngp']"
   ]
  },
  {
   "cell_type": "code",
   "execution_count": 4,
   "metadata": {},
   "outputs": [],
   "source": [
    "#t_season='AMJ'\n",
    "#t_months=[4,5,6]\n",
    "start_year = '1970-01-01'\n",
    "end_year = '2016-01-01'\n",
    "ext_e = -92\n",
    "ext_w = -120\n",
    "ext_n = 55\n",
    "ext_s = 38\n",
    "#t2m = t2m.sel(lat=slice(ext_s-5,ext_n+5),lon=slice(ext_w-5,ext_e+5))\n",
    "#mask = mask.sel(lat=slice(ext_s-5,ext_n+5),lon=slice(ext_w-5,ext_e+5))\n",
    "#ggw_lat,ggw_lon = 48.18, -106.635"
   ]
  },
  {
   "cell_type": "code",
   "execution_count": 5,
   "metadata": {},
   "outputs": [],
   "source": [
    "#extract the time period we are interested in\n",
    "t2m_slice=t2m.sel(time=slice(start_year,end_year))\n",
    "\n",
    "\n",
    "#extract the 30 yr climate normal times\n",
    "t2m_clim_30= t2m.sel(time=slice('1980-01-01','2011-01-01'))\n",
    "\n",
    "#create averages over months for climate normal\n",
    "t2m_clim_months_avg = t2m_clim_30.groupby('time.month').mean(dim='time')"
   ]
  },
  {
   "cell_type": "code",
   "execution_count": 6,
   "metadata": {},
   "outputs": [],
   "source": [
    "t2m_new = t2m_slice.groupby('time.month').apply(lambda x: x.groupby('time.year').mean(dim='time'))"
   ]
  },
  {
   "cell_type": "code",
   "execution_count": 7,
   "metadata": {},
   "outputs": [],
   "source": [
    "#create 2d structure to hold slope\n",
    "month = ['January','February','March','April','May','June','July','August','September','October','November','December']\n",
    "lat = t2m.lat\n",
    "lon=t2m.lon\n",
    "vals = np.empty(shape=(12,len(lat),len(lon)))\n",
    "vals[:,:,:] = np.nan\n",
    "spatial_trend = xr.DataArray(vals,coords=[month,lat,lon],dims=['month','lat','lon'])\n",
    "spatial_trend.name = 't2m_trend'\n",
    "spatial_trend.attrs['units'] = 'C per Decade'\n",
    "spatial_trend.attrs['long_name'] = '2 meter temperature trend'\n",
    "\n",
    "#spatial_trend = xr.DataArray(np.random.rand(4,54,76),coords=[season,lat,lon],dims=['season','lat','lon'])\n",
    "\n",
    "\n",
    "slope_scipy = t2m.isel(time=1).copy(deep=True)\n",
    "#create 2d structure to hold pvalues\n",
    "lat = t2m.lat\n",
    "lon=t2m.lon\n",
    "pvalues = xr.DataArray(np.random.rand(12,len(lat),len(lon)),coords=[month,lat,lon],dims=['month','lat','lon'])\n",
    "pvalues.name = 't2m_trend_pvalues'\n",
    "pvalues.attrs['units'] = 'pvalues'\n",
    "pvalues.attrs['long_name'] = '2 meter temperature trend pvalues'"
   ]
  },
  {
   "cell_type": "code",
   "execution_count": 13,
   "metadata": {},
   "outputs": [],
   "source": [
    "anom = t2m_new - t2m_clim_months_avg"
   ]
  },
  {
   "cell_type": "code",
   "execution_count": 14,
   "metadata": {},
   "outputs": [],
   "source": [
    "#calculate slope and pvalue for each grid point\n",
    "#replace with a map() call?\n",
    "corr_vals = np.arange(0,len(anom.year))\n",
    "corr_vals = sm.add_constant(corr_vals)\n",
    "for k in np.arange(0,12):\n",
    "    for i in np.arange(0,len(anom['lat'])):\n",
    "        for j in np.arange(0,len(anom['lon'])):\n",
    "            series = anom[k,i,j,:]\n",
    "            model = sm.OLS(series.values,corr_vals)\n",
    "            #ac_coe = sm.tsa.stattools.acf(series.values)\n",
    "            #model = sm.OLS(series.values,corr_vals)\n",
    "            #slope_2, intercept_2, r_value_2, p_value_2, std_err_2 = stats.linregress(corr_vals,anom.values)\n",
    "            results = model.fit()\n",
    "            slope = results.params[1]\n",
    "            #adjusted_error = results.bse[1] * (np.sqrt((1-ac_coe[1])/(1+ac_coe[1])))\n",
    "            #t_value = ((slope)/adjusted_error)\n",
    "            #tw0-sided\n",
    "           # p_value = 2*(1-stats.t.cdf(abs(t_value), results.df_resid))\n",
    "            #t_value = ((slope - 0.02)/results.bse[1])\n",
    "            #p_value = stats.t.cdf(t_value, results.df_resid)\n",
    "            #p_value = stats.t.sf(results.tvalues[0], results.df_resid)\n",
    "            spatial_trend[k,i,j]=slope*10\n",
    "            #slope_scipy[i,j] = slope_2*10\n",
    "            #pvalues[k,i,j]= p_value"
   ]
  },
  {
   "cell_type": "code",
   "execution_count": 9,
   "metadata": {},
   "outputs": [
    {
     "data": {
      "text/plain": [
       "<xarray.DataArray 't2m_trend' (month: 12, lat: 360, lon: 720)>\n",
       "array([[[nan, nan, ..., nan, nan],\n",
       "        [nan, nan, ..., nan, nan],\n",
       "        ...,\n",
       "        [nan, nan, ..., nan, nan],\n",
       "        [nan, nan, ..., nan, nan]],\n",
       "\n",
       "       [[nan, nan, ..., nan, nan],\n",
       "        [nan, nan, ..., nan, nan],\n",
       "        ...,\n",
       "        [nan, nan, ..., nan, nan],\n",
       "        [nan, nan, ..., nan, nan]],\n",
       "\n",
       "       ...,\n",
       "\n",
       "       [[nan, nan, ..., nan, nan],\n",
       "        [nan, nan, ..., nan, nan],\n",
       "        ...,\n",
       "        [nan, nan, ..., nan, nan],\n",
       "        [nan, nan, ..., nan, nan]],\n",
       "\n",
       "       [[nan, nan, ..., nan, nan],\n",
       "        [nan, nan, ..., nan, nan],\n",
       "        ...,\n",
       "        [nan, nan, ..., nan, nan],\n",
       "        [nan, nan, ..., nan, nan]]])\n",
       "Coordinates:\n",
       "  * month    (month) <U9 'January' 'February' 'March' 'April' 'May' 'June' ...\n",
       "  * lat      (lat) float32 -89.75 -89.25 -88.75 -88.25 -87.75 -87.25 -86.75 ...\n",
       "  * lon      (lon) float32 -179.75 -179.25 -178.75 -178.25 -177.75 -177.25 ...\n",
       "Attributes:\n",
       "    units:      C per Decade\n",
       "    long_name:  2 meter temperature trend"
      ]
     },
     "execution_count": 9,
     "metadata": {},
     "output_type": "execute_result"
    }
   ],
   "source": [
    "spatial_trend"
   ]
  },
  {
   "cell_type": "code",
   "execution_count": null,
   "metadata": {
    "collapsed": true
   },
   "outputs": [],
   "source": [
    "pvals = pvalues.where(pvalues.values < 0.05)"
   ]
  },
  {
   "cell_type": "code",
   "execution_count": 13,
   "metadata": {},
   "outputs": [],
   "source": [
    "#create 2d data in ngp\n",
    "ngp = spatial_trend.where(mask==1)\n",
    "test = ngp.stack(z=('lat','lon'))\n",
    "#\n",
    "season_values = test.groupby('month').apply(lambda x: x.dropna(dim='z'))\n",
    "\n",
    "#create 2d data over globe\n",
    "global_trends = spatial_trend.stack(z=('lat','lon'))\n",
    "\n",
    "glob_seasonal_trends = global_trends.groupby('month').apply(lambda x: x.dropna(dim='z'))\n",
    "\n",
    "#save data\n",
    "glob_data = glob_seasonal_trends.reset_index('z')\n",
    "ngp_data = season_values.reset_index('z')\n",
    "\n",
    "glob_data.to_netcdf('/Users/gbromley/Dropbox/Montana_Climate_Project/NGP_Climatology_Paper/Figures/Data/global_monthly_temp_trends.nc')\n",
    "ngp_data.to_netcdf('/Users/gbromley/Dropbox/Montana_Climate_Project/NGP_Climatology_Paper/Figures/Data/ngp_monthly_temp_trends.nc')"
   ]
  },
  {
   "cell_type": "code",
   "execution_count": 86,
   "metadata": {},
   "outputs": [],
   "source": [
    "ngp_data = season_values.reset_index('z')\n",
    "ngp_data.to_netcdf('/Users/gbromley/Dropbox/Montana_Climate_Project/NGP_Climatology_Paper/Figures/Data/ngp_monthly_temp_trends.nc')"
   ]
  },
  {
   "cell_type": "code",
   "execution_count": 76,
   "metadata": {},
   "outputs": [],
   "source": [
    "test_month = 'July'\n",
    "month = season_values.sel(month=test_month)\n",
    "\n",
    "month = month.to_masked_array(copy=True)"
   ]
  },
  {
   "cell_type": "code",
   "execution_count": 42,
   "metadata": {},
   "outputs": [
    {
     "name": "stdout",
     "output_type": "stream",
     "text": [
      "0.1840439128355836+/-0.09842229565292338\n"
     ]
    }
   ],
   "source": [
    "print(str(np.mean(month))+ \"+/-\" + str(np.std(month)))\n",
    "#np.std(month)"
   ]
  },
  {
   "cell_type": "code",
   "execution_count": 43,
   "metadata": {},
   "outputs": [
    {
     "data": {
      "text/plain": [
       "(array([  7.,  24.,  70.,  65.,  81.,  92., 132.,  73.,  56.,  36.]),\n",
       " array([-0.06623499, -0.02126429,  0.02370641,  0.06867711,  0.11364781,\n",
       "         0.15861851,  0.20358921,  0.24855991,  0.29353061,  0.33850131,\n",
       "         0.38347201]),\n",
       " <a list of 10 Patch objects>)"
      ]
     },
     "execution_count": 43,
     "metadata": {},
     "output_type": "execute_result"
    },
    {
     "data": {
      "image/png": "[encoded data removed]",
      "text/plain": [
       "<matplotlib.figure.Figure at 0x126824c18>"
      ]
     },
     "metadata": {},
     "output_type": "display_data"
    }
   ],
   "source": [
    "plt.hist(month)"
   ]
  },
  {
   "cell_type": "code",
   "execution_count": 44,
   "metadata": {},
   "outputs": [],
   "source": [
    "global_trends = spatial_trend.stack(z=('lat','lon'))\n",
    "\n",
    "\n",
    "glob_seasonal_trends = global_trends.groupby('month').apply(lambda x: x.dropna(dim='z'))"
   ]
  },
  {
   "cell_type": "code",
   "execution_count": 46,
   "metadata": {},
   "outputs": [],
   "source": [
    "glob_month = glob_seasonal_trends.sel(month=test_month).to_masked_array(copy=True)"
   ]
  },
  {
   "cell_type": "code",
   "execution_count": 56,
   "metadata": {},
   "outputs": [],
   "source": [
    "\n",
    "test2 = glob_seasonal_trends.reset_index('z')"
   ]
  },
  {
   "cell_type": "code",
   "execution_count": 57,
   "metadata": {},
   "outputs": [],
   "source": [
    "test2.to_netcdf('/Users/gbromley/Dropbox/Montana_Climate_Project/NGP_Climatology_Paper/Figures/Data/global_monthly_temp_trends.nc')"
   ]
  },
  {
   "cell_type": "code",
   "execution_count": 79,
   "metadata": {},
   "outputs": [],
   "source": [
    "bplot_stats = np.full((12,5), np.nan)"
   ]
  },
  {
   "cell_type": "code",
   "execution_count": 106,
   "metadata": {},
   "outputs": [],
   "source": [
    "np.savetxt(\"/Users/gbromley/Dropbox/Montana_Climate_Project/NGP_Climatology_Paper/Figures/Data/global_december_trends.csv\",glob,delimiter=',')\n",
    "np.savetxt(\"/Users/gbromley/Dropbox/Montana_Climate_Project/NGP_Climatology_Paper/Figures/Data/ngp_december_trends.csv\",ngp,delimiter=',')"
   ]
  },
  {
   "cell_type": "code",
   "execution_count": 101,
   "metadata": {},
   "outputs": [],
   "source": [
    "for month in range(0,12):\n",
    "    glob = glob_seasonal_trends.isel(month = month).to_masked_array(copy=True)\n",
    "    ngp = season_values.isel(month = month).to_masked_array(copy=True)\n",
    "    tstat, pval = stats.ks_2samp(ngp,glob)\n",
    "    bplot_stats[month] = np.mean(glob), np.std(glob), np.mean(ngp), np.std(ngp), pval"
   ]
  },
  {
   "cell_type": "code",
   "execution_count": 102,
   "metadata": {},
   "outputs": [
    {
     "data": {
      "text/plain": [
       "(array([0.34503527, 0.32643327, 0.35560778, 0.33673307, 0.2867272 ,\n",
       "        0.29012698, 0.25096697, 0.2611349 , 0.2747594 , 0.37210399,\n",
       "        0.38483428, 0.33923661]),\n",
       " array([ 0.90931646, -0.06275393,  0.26975499,  0.00423321, -0.17491947,\n",
       "        -0.12552426,  0.18404391,  0.10443995,  0.45647035,  0.03377085,\n",
       "         0.32588798,  0.42265335]))"
      ]
     },
     "execution_count": 102,
     "metadata": {},
     "output_type": "execute_result"
    }
   ],
   "source": [
    "bplot_stats[:,0], bplot_stats[:,2]"
   ]
  },
  {
   "cell_type": "code",
   "execution_count": 103,
   "metadata": {},
   "outputs": [
    {
     "data": {
      "text/plain": [
       "array([0.00000000e+000, 7.63155364e-296, 2.79387031e-051, 0.00000000e+000,\n",
       "       0.00000000e+000, 0.00000000e+000, 8.57392687e-031, 5.16155130e-232,\n",
       "       1.30775650e-186, 0.00000000e+000, 4.57901275e-048, 4.67881932e-051])"
      ]
     },
     "execution_count": 103,
     "metadata": {},
     "output_type": "execute_result"
    }
   ],
   "source": [
    "bplot_stats[:,4]"
   ]
  },
  {
   "cell_type": "code",
   "execution_count": 100,
   "metadata": {},
   "outputs": [
    {
     "data": {
      "text/plain": [
       "Ks_2sampResult(statistic=0.30266637934733737, pvalue=4.678819321619939e-51)"
      ]
     },
     "execution_count": 100,
     "metadata": {},
     "output_type": "execute_result"
    }
   ],
   "source": [
    "stats.ks_2samp(ngp,glob)"
   ]
  },
  {
   "cell_type": "code",
   "execution_count": null,
   "metadata": {},
   "outputs": [],
   "source": []
  },
  {
   "cell_type": "code",
   "execution_count": 78,
   "metadata": {},
   "outputs": [
    {
     "data": {
      "text/plain": [
       "(-10.91769685965668, 9.487103993437276e-28)"
      ]
     },
     "execution_count": 78,
     "metadata": {},
     "output_type": "execute_result"
    }
   ],
   "source": [
    "sm.stats.weightstats.ztest(month, glob_month)"
   ]
  },
  {
   "cell_type": "code",
   "execution_count": null,
   "metadata": {},
   "outputs": [],
   "source": [
    "plt.rcParams.update({'font.size': 22})\n",
    "month = ['J','F','M','A','M','J','J','A','S','O','N','D']\n",
    "fig, ax = plt.subplots(ncols=1)\n",
    "fig.set_dpi(400)\n",
    "fig.set_size_inches((13,7))\n",
    "pos = np.array(range(len(season_values))) + 1\n",
    "plt.boxplot(season_values, positions=pos, linewidth=14)\n",
    "plt.xticks([1, 2, 3,4,5,6,7,8,9,10,11,12], month)\n",
    "ax.axhline(0)\n",
    "ax.set_ylabel('Temperature Trend $^\\circ$C / Decade')\n",
    "plt.savefig('/Users/gbromley/Dropbox/Montana_Climate_Project/NGP_Climatology_Paper/Figures/temp_trend_boxplots.png',bbox_inches='tight')\n"
   ]
  },
  {
   "cell_type": "code",
   "execution_count": null,
   "metadata": {},
   "outputs": [],
   "source": []
  },
  {
   "cell_type": "code",
   "execution_count": null,
   "metadata": {
    "collapsed": true
   },
   "outputs": [],
   "source": [
    "spatial_trend[8,:,:]"
   ]
  },
  {
   "cell_type": "code",
   "execution_count": null,
   "metadata": {
    "collapsed": true
   },
   "outputs": [],
   "source": []
  },
  {
   "cell_type": "code",
   "execution_count": null,
   "metadata": {
    "collapsed": true
   },
   "outputs": [],
   "source": []
  },
  {
   "cell_type": "code",
   "execution_count": null,
   "metadata": {
    "collapsed": true
   },
   "outputs": [],
   "source": [
    "\n",
    "\n"
   ]
  },
  {
   "cell_type": "code",
   "execution_count": null,
   "metadata": {
    "collapsed": true
   },
   "outputs": [],
   "source": []
  },
  {
   "cell_type": "code",
   "execution_count": null,
   "metadata": {
    "collapsed": true
   },
   "outputs": [],
   "source": []
  },
  {
   "cell_type": "code",
   "execution_count": null,
   "metadata": {
    "collapsed": true
   },
   "outputs": [],
   "source": []
  },
  {
   "cell_type": "code",
   "execution_count": null,
   "metadata": {
    "collapsed": true
   },
   "outputs": [],
   "source": []
  }
 ],
 "metadata": {
  "anaconda-cloud": {},
  "kernelspec": {
   "display_name": "Python 3",
   "language": "python",
   "name": "python3"
  },
  "language_info": {
   "codemirror_mode": {
    "name": "ipython",
    "version": 3
   },
   "file_extension": ".py",
   "mimetype": "text/x-python",
   "name": "python",
   "nbconvert_exporter": "python",
   "pygments_lexer": "ipython3",
   "version": "3.6.7"
  }
 },
 "nbformat": 4,
 "nbformat_minor": 2
}
